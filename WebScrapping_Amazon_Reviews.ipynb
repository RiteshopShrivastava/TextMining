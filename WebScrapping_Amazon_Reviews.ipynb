{
  "nbformat": 4,
  "nbformat_minor": 0,
  "metadata": {
    "kernelspec": {
      "display_name": "Python 3",
      "language": "python",
      "name": "python3"
    },
    "language_info": {
      "codemirror_mode": {
        "name": "ipython",
        "version": 3
      },
      "file_extension": ".py",
      "mimetype": "text/x-python",
      "name": "python",
      "nbconvert_exporter": "python",
      "pygments_lexer": "ipython3",
      "version": "3.8.5"
    },
    "varInspector": {
      "cols": {
        "lenName": 16,
        "lenType": 16,
        "lenVar": 40
      },
      "kernels_config": {
        "python": {
          "delete_cmd_postfix": "",
          "delete_cmd_prefix": "del ",
          "library": "var_list.py",
          "varRefreshCmd": "print(var_dic_list())"
        },
        "r": {
          "delete_cmd_postfix": ") ",
          "delete_cmd_prefix": "rm(",
          "library": "var_list.r",
          "varRefreshCmd": "cat(var_dic_list()) "
        }
      },
      "types_to_exclude": [
        "module",
        "function",
        "builtin_function_or_method",
        "instance",
        "_Feature"
      ],
      "window_display": false
    },
    "colab": {
      "name": "WebScrapping_Amazon_Reviews.ipynb",
      "provenance": [],
      "collapsed_sections": [],
      "include_colab_link": true
    }
  },
  "cells": [
    {
      "cell_type": "markdown",
      "metadata": {
        "id": "view-in-github",
        "colab_type": "text"
      },
      "source": [
        "<a href=\"https://colab.research.google.com/github/RiteshopShrivastava/TextMining/blob/main/WebScrapping_Amazon_Reviews.ipynb\" target=\"_parent\"><img src=\"https://colab.research.google.com/assets/colab-badge.svg\" alt=\"Open In Colab\"/></a>"
      ]
    },
    {
      "cell_type": "markdown",
      "metadata": {
        "id": "NjJmPL2DNfiC"
      },
      "source": [
        "**Amazon Reviews - Apple iPhone 7 (32GB) - Black**"
      ]
    },
    {
      "cell_type": "code",
      "metadata": {
        "ExecuteTime": {
          "end_time": "2021-10-09T20:11:30.490814Z",
          "start_time": "2021-10-09T20:11:26.544270Z"
        },
        "colab": {
          "base_uri": "https://localhost:8080/"
        },
        "id": "e1PbctiWIERo",
        "outputId": "b072123e-394f-454c-a010-ae402c27c1ae"
      },
      "source": [
        "!pip install bs4"
      ],
      "execution_count": 1,
      "outputs": [
        {
          "output_type": "stream",
          "name": "stdout",
          "text": [
            "Requirement already satisfied: bs4 in /usr/local/lib/python3.7/dist-packages (0.0.1)\n",
            "Requirement already satisfied: beautifulsoup4 in /usr/local/lib/python3.7/dist-packages (from bs4) (4.6.3)\n"
          ]
        }
      ]
    },
    {
      "cell_type": "code",
      "metadata": {
        "ExecuteTime": {
          "end_time": "2021-10-09T20:11:54.870030Z",
          "start_time": "2021-10-09T20:11:50.013999Z"
        },
        "colab": {
          "base_uri": "https://localhost:8080/"
        },
        "id": "Vy8VJSipIERz",
        "outputId": "6c081922-dccf-491c-b89c-3d7ad90266ba"
      },
      "source": [
        "!pip install requests"
      ],
      "execution_count": 2,
      "outputs": [
        {
          "output_type": "stream",
          "name": "stdout",
          "text": [
            "Requirement already satisfied: requests in /usr/local/lib/python3.7/dist-packages (2.23.0)\n",
            "Requirement already satisfied: idna<3,>=2.5 in /usr/local/lib/python3.7/dist-packages (from requests) (2.10)\n",
            "Requirement already satisfied: chardet<4,>=3.0.2 in /usr/local/lib/python3.7/dist-packages (from requests) (3.0.4)\n",
            "Requirement already satisfied: certifi>=2017.4.17 in /usr/local/lib/python3.7/dist-packages (from requests) (2021.5.30)\n",
            "Requirement already satisfied: urllib3!=1.25.0,!=1.25.1,<1.26,>=1.21.1 in /usr/local/lib/python3.7/dist-packages (from requests) (1.24.3)\n"
          ]
        }
      ]
    },
    {
      "cell_type": "code",
      "metadata": {
        "ExecuteTime": {
          "end_time": "2021-10-09T21:36:50.951792Z",
          "start_time": "2021-10-09T21:36:50.945852Z"
        },
        "id": "aICtfwmmIER1"
      },
      "source": [
        "from bs4 import BeautifulSoup\n",
        "import requests"
      ],
      "execution_count": 3,
      "outputs": []
    },
    {
      "cell_type": "code",
      "metadata": {
        "ExecuteTime": {
          "end_time": "2021-10-09T21:37:41.322113Z",
          "start_time": "2021-10-09T21:37:41.316783Z"
        },
        "id": "7chvU2s6IER4"
      },
      "source": [
        "headerAgent = {'User-Agent': 'Mozilla/5.0 (Windows NT 6.1) AppleWebKit/537.36 (KHTML, like Gecko) Chrome/41.0.2228.0 Safari/537.36'}\n",
        "\n",
        "url='https://www.amazon.in/Apple-iPhone-Black-32GB-Storage/product-reviews/B01LZKSVRB/ref=cm_cr_dp_d_show_all_btm?ie=UTF8&reviewerType=all_reviews'"
      ],
      "execution_count": 4,
      "outputs": []
    },
    {
      "cell_type": "code",
      "metadata": {
        "ExecuteTime": {
          "end_time": "2021-10-09T21:37:45.380865Z",
          "start_time": "2021-10-09T21:37:44.796064Z"
        },
        "id": "CnDzaI1XIER5"
      },
      "source": [
        "page = requests.get(url,headers=headerAgent)"
      ],
      "execution_count": 5,
      "outputs": []
    },
    {
      "cell_type": "code",
      "metadata": {
        "ExecuteTime": {
          "end_time": "2021-10-09T21:37:46.917350Z",
          "start_time": "2021-10-09T21:37:46.902983Z"
        },
        "colab": {
          "base_uri": "https://localhost:8080/"
        },
        "id": "r9PXNgVIIER6",
        "outputId": "6603679d-7211-4fb9-a8b8-e61f77accaa7"
      },
      "source": [
        "page"
      ],
      "execution_count": 6,
      "outputs": [
        {
          "output_type": "execute_result",
          "data": {
            "text/plain": [
              "<Response [200]>"
            ]
          },
          "metadata": {},
          "execution_count": 6
        }
      ]
    },
    {
      "cell_type": "code",
      "metadata": {
        "ExecuteTime": {
          "end_time": "2021-10-09T21:37:50.117250Z",
          "start_time": "2021-10-09T21:37:50.112484Z"
        },
        "colab": {
          "base_uri": "https://localhost:8080/",
          "height": 35
        },
        "id": "9RXQvonOIER8",
        "outputId": "e1f1f179-06f4-4e0a-a064-ce9e46090fbb"
      },
      "source": [
        "url"
      ],
      "execution_count": 7,
      "outputs": [
        {
          "output_type": "execute_result",
          "data": {
            "application/vnd.google.colaboratory.intrinsic+json": {
              "type": "string"
            },
            "text/plain": [
              "'https://www.amazon.in/Apple-iPhone-Black-32GB-Storage/product-reviews/B01LZKSVRB/ref=cm_cr_dp_d_show_all_btm?ie=UTF8&reviewerType=all_reviews'"
            ]
          },
          "metadata": {},
          "execution_count": 7
        }
      ]
    },
    {
      "cell_type": "code",
      "metadata": {
        "ExecuteTime": {
          "end_time": "2021-10-09T21:37:52.581804Z",
          "start_time": "2021-10-09T21:37:52.558789Z"
        },
        "id": "OdZoBOtpIER-"
      },
      "source": [
        "page.content"
      ],
      "execution_count": null,
      "outputs": []
    },
    {
      "cell_type": "code",
      "metadata": {
        "ExecuteTime": {
          "end_time": "2021-10-09T21:17:51.708233Z",
          "start_time": "2021-10-09T21:17:51.333605Z"
        },
        "id": "D2mlbgxWIER_"
      },
      "source": [
        "soup = BeautifulSoup(page.content, 'html.parser')"
      ],
      "execution_count": 9,
      "outputs": []
    },
    {
      "cell_type": "code",
      "metadata": {
        "ExecuteTime": {
          "end_time": "2021-10-09T21:17:53.645657Z",
          "start_time": "2021-10-09T21:17:53.479646Z"
        },
        "scrolled": false,
        "id": "6BGc-vfpIESB"
      },
      "source": [
        "print(soup.prettify())"
      ],
      "execution_count": null,
      "outputs": []
    },
    {
      "cell_type": "code",
      "metadata": {
        "ExecuteTime": {
          "end_time": "2021-10-09T21:10:04.135639Z",
          "start_time": "2021-10-09T21:10:04.109770Z"
        },
        "id": "HW6AqYUzIESC",
        "outputId": "92d1cfdb-e0fc-494e-adea-95ce57eee586"
      },
      "source": [
        "soup"
      ],
      "execution_count": null,
      "outputs": [
        {
          "data": {
            "text/plain": [
              "<!DOCTYPE html>\n",
              "\n",
              "<!--[if lt IE 7]> <html lang=\"en-us\" class=\"a-no-js a-lt-ie9 a-lt-ie8 a-lt-ie7\"> <![endif]-->\n",
              "<!--[if IE 7]>    <html lang=\"en-us\" class=\"a-no-js a-lt-ie9 a-lt-ie8\"> <![endif]-->\n",
              "<!--[if IE 8]>    <html lang=\"en-us\" class=\"a-no-js a-lt-ie9\"> <![endif]-->\n",
              "<!--[if gt IE 8]><!-->\n",
              "<html class=\"a-no-js\" lang=\"en-us\"><!--<![endif]--><head>\n",
              "<meta content=\"text/html; charset=utf-8\" http-equiv=\"content-type\"/>\n",
              "<meta charset=\"utf-8\"/>\n",
              "<meta content=\"IE=edge,chrome=1\" http-equiv=\"X-UA-Compatible\"/>\n",
              "<title dir=\"ltr\">Amazon.in</title>\n",
              "<meta content=\"width=device-width\" name=\"viewport\"/>\n",
              "<link href=\"https://images-na.ssl-images-amazon.com/images/G/01/AUIClients/AmazonUI-3c913031596ca78a3768f4e934b1cc02ce238101.secure.min._V1_.css\" rel=\"stylesheet\"/>\n",
              "<script>\n",
              "\n",
              "if (true === true) {\n",
              "    var ue_t0 = (+ new Date()),\n",
              "        ue_csm = window,\n",
              "        ue = { t0: ue_t0, d: function() { return (+new Date() - ue_t0); } },\n",
              "        ue_furl = \"fls-eu.amazon.in\",\n",
              "        ue_mid = \"A21TJRUUN4KGV\",\n",
              "        ue_sid = (document.cookie.match(/session-id=([0-9-]+)/) || [])[1],\n",
              "        ue_sn = \"opfcaptcha.amazon.in\",\n",
              "        ue_id = 'HSKH2P6GG8R6C22C0G6Q';\n",
              "}\n",
              "</script>\n",
              "</head>\n",
              "<body>\n",
              "<!--\n",
              "        To discuss automated access to Amazon data please contact api-services-support@amazon.com.\n",
              "        For information about migrating to our APIs refer to our Marketplace APIs at https://developer.amazonservices.in/ref=rm_c_sv, or our Product Advertising API at https://affiliate-program.amazon.in/gp/advertising/api/detail/main.html/ref=rm_c_ac for advertising use cases.\n",
              "-->\n",
              "<!--\n",
              "Correios.DoNotSend\n",
              "-->\n",
              "<div class=\"a-container a-padding-double-large\" style=\"min-width:350px;padding:44px 0 !important\">\n",
              "<div class=\"a-row a-spacing-double-large\" style=\"width: 350px; margin: 0 auto\">\n",
              "<div class=\"a-row a-spacing-medium a-text-center\"><i class=\"a-icon a-logo\"></i></div>\n",
              "<div class=\"a-box a-alert a-alert-info a-spacing-base\">\n",
              "<div class=\"a-box-inner\">\n",
              "<i class=\"a-icon a-icon-alert\"></i>\n",
              "<h4>Enter the characters you see below</h4>\n",
              "<p class=\"a-last\">Sorry, we just need to make sure you're not a robot. For best results, please make sure your browser is accepting cookies.</p>\n",
              "</div>\n",
              "</div>\n",
              "<div class=\"a-section\">\n",
              "<div class=\"a-box a-color-offset-background\">\n",
              "<div class=\"a-box-inner a-padding-extra-large\">\n",
              "<form action=\"/errors/validateCaptcha\" method=\"get\" name=\"\">\n",
              "<input name=\"amzn\" type=\"hidden\" value=\"nRnf7CpSfAnaMvRZTouKAg==\"/><input name=\"amzn-r\" type=\"hidden\" value=\"/dp/B01LZKSVRB?th=1\"/>\n",
              "<div class=\"a-row a-spacing-large\">\n",
              "<div class=\"a-box\">\n",
              "<div class=\"a-box-inner\">\n",
              "<h4>Type the characters you see in this image:</h4>\n",
              "<!-- For automated access to price change or offer listing change events,\n",
              "                                             please refer to the MWS Subscription API:\n",
              "                                             https://developer.amazonservices.in/gp/mws/api.html/276-5247872-0590350?ie=UTF8&section=subscriptions&group=subscriptions&version=latest\n",
              "                                        -->\n",
              "<div class=\"a-row a-text-center\">\n",
              "<img src=\"https://images-na.ssl-images-amazon.com/captcha/druexhzz/Captcha_dtiapfmvly.jpg\"/>\n",
              "</div>\n",
              "<div class=\"a-row a-spacing-base\">\n",
              "<div class=\"a-row\">\n",
              "<div class=\"a-column a-span6\">\n",
              "</div>\n",
              "<div class=\"a-column a-span6 a-span-last a-text-right\">\n",
              "<a onclick=\"window.location.reload()\">Try different image</a>\n",
              "</div>\n",
              "</div>\n",
              "<input autocapitalize=\"off\" autocomplete=\"off\" autocorrect=\"off\" class=\"a-span12\" id=\"captchacharacters\" name=\"field-keywords\" placeholder=\"Type characters\" spellcheck=\"false\" type=\"text\"/>\n",
              "</div>\n",
              "</div>\n",
              "</div>\n",
              "</div>\n",
              "<div class=\"a-section a-spacing-extra-large\">\n",
              "<div class=\"a-row\">\n",
              "<span class=\"a-button a-button-primary a-span12\">\n",
              "<span class=\"a-button-inner\">\n",
              "<button class=\"a-button-text\" type=\"submit\">Continue shopping</button>\n",
              "</span>\n",
              "</span>\n",
              "</div>\n",
              "</div>\n",
              "</form>\n",
              "</div>\n",
              "</div>\n",
              "</div>\n",
              "</div>\n",
              "<div class=\"a-divider a-divider-section\"><div class=\"a-divider-inner\"></div></div>\n",
              "<div class=\"a-text-center a-spacing-small a-size-mini\">\n",
              "<a href=\"https://www.amazon.in/gp/help/customer/display.html/ref=footer_cou?ie=UTF8&amp;nodeId=200545940\">Conditions of Use &amp; Sale</a>\n",
              "<span class=\"a-letter-space\"></span>\n",
              "<span class=\"a-letter-space\"></span>\n",
              "<span class=\"a-letter-space\"></span>\n",
              "<span class=\"a-letter-space\"></span>\n",
              "<a href=\"https://www.amazon.in/gp/help/customer/display.html/ref=footer_privacy?ie=UTF8&amp;nodeId=200534380\">Privacy Notice</a>\n",
              "</div>\n",
              "<div class=\"a-text-center a-size-mini a-color-secondary\">\n",
              "          © 1996-2015, Amazon.com, Inc. or its affiliates\n",
              "          <script>\n",
              "           if (true === true) {\n",
              "             document.write('<img src=\"https://fls-eu.amaz'+'on.in/'+'1/oc-csi/1/OP/requestId=HSKH2P6GG8R6C22C0G6Q&js=1\" />');\n",
              "           };\n",
              "          </script>\n",
              "<noscript>\n",
              "<img src=\"https://fls-eu.amazon.in/1/oc-csi/1/OP/requestId=HSKH2P6GG8R6C22C0G6Q&amp;js=0\">\n",
              "</img></noscript>\n",
              "</div>\n",
              "</div>\n",
              "<script>\n",
              "    if (true === true) {\n",
              "        var head = document.getElementsByTagName('head')[0],\n",
              "            prefix = \"https://images-eu.ssl-images-amazon.com/images/G/01/csminstrumentation/\",\n",
              "            elem = document.createElement(\"script\");\n",
              "        elem.src = prefix + \"csm-captcha-instrumentation.min.js\";\n",
              "        head.appendChild(elem);\n",
              "\n",
              "        elem = document.createElement(\"script\");\n",
              "        elem.src = prefix + \"rd-script-6d68177fa6061598e9509dc4b5bdd08d.js\";\n",
              "        head.appendChild(elem);\n",
              "    }\n",
              "    </script>\n",
              "</body></html>"
            ]
          },
          "execution_count": 48,
          "metadata": {},
          "output_type": "execute_result"
        }
      ]
    },
    {
      "cell_type": "markdown",
      "metadata": {
        "id": "UnKxpllTQO-n"
      },
      "source": [
        "**Extracting name of reviewer**"
      ]
    },
    {
      "cell_type": "code",
      "metadata": {
        "ExecuteTime": {
          "end_time": "2021-10-09T21:19:59.030930Z",
          "start_time": "2021-10-09T21:19:58.990741Z"
        },
        "id": "mHpjwS2nIESD"
      },
      "source": [
        "name = soup.find_all('span', class_='a-profile-name')"
      ],
      "execution_count": 11,
      "outputs": []
    },
    {
      "cell_type": "code",
      "metadata": {
        "ExecuteTime": {
          "end_time": "2021-10-09T21:20:13.839550Z",
          "start_time": "2021-10-09T21:20:13.825980Z"
        },
        "colab": {
          "base_uri": "https://localhost:8080/"
        },
        "id": "Xxac563KIESE",
        "outputId": "1c0713ab-59cd-4712-b38f-78baa777f766"
      },
      "source": [
        "name"
      ],
      "execution_count": 12,
      "outputs": [
        {
          "output_type": "execute_result",
          "data": {
            "text/plain": [
              "[<span class=\"a-profile-name\">Bharath Kumar</span>,\n",
              " <span class=\"a-profile-name\">jaywant</span>,\n",
              " <span class=\"a-profile-name\">jaywant</span>,\n",
              " <span class=\"a-profile-name\">Bharath Kumar</span>,\n",
              " <span class=\"a-profile-name\">Utpal Das</span>,\n",
              " <span class=\"a-profile-name\">Rishabh</span>,\n",
              " <span class=\"a-profile-name\">zishan ali</span>,\n",
              " <span class=\"a-profile-name\">mohammad n.</span>,\n",
              " <span class=\"a-profile-name\">Keshav Singh</span>,\n",
              " <span class=\"a-profile-name\">Vikram Nayak </span>,\n",
              " <span class=\"a-profile-name\">Jack Sparrow </span>,\n",
              " <span class=\"a-profile-name\">Lalit A.</span>]"
            ]
          },
          "metadata": {},
          "execution_count": 12
        }
      ]
    },
    {
      "cell_type": "code",
      "metadata": {
        "ExecuteTime": {
          "end_time": "2021-10-09T21:24:06.040984Z",
          "start_time": "2021-10-09T21:24:06.014719Z"
        },
        "id": "ttUY4LdNIESF"
      },
      "source": [
        "cust_name=[]\n",
        "for i in range (0,len(name)):\n",
        "    cust_name.append(name[i].get_text())"
      ],
      "execution_count": 13,
      "outputs": []
    },
    {
      "cell_type": "code",
      "metadata": {
        "ExecuteTime": {
          "end_time": "2021-10-09T21:24:15.093625Z",
          "start_time": "2021-10-09T21:24:15.081729Z"
        },
        "colab": {
          "base_uri": "https://localhost:8080/"
        },
        "id": "dSfsPUIIIESG",
        "outputId": "9fe49ddd-d34a-436e-958d-d60ff8e99c8f"
      },
      "source": [
        "cust_name"
      ],
      "execution_count": 14,
      "outputs": [
        {
          "output_type": "execute_result",
          "data": {
            "text/plain": [
              "['Bharath Kumar',\n",
              " 'jaywant',\n",
              " 'jaywant',\n",
              " 'Bharath Kumar',\n",
              " 'Utpal Das',\n",
              " 'Rishabh',\n",
              " 'zishan ali',\n",
              " 'mohammad n.',\n",
              " 'Keshav Singh',\n",
              " 'Vikram Nayak ',\n",
              " 'Jack Sparrow ',\n",
              " 'Lalit A.']"
            ]
          },
          "metadata": {},
          "execution_count": 14
        }
      ]
    },
    {
      "cell_type": "code",
      "metadata": {
        "colab": {
          "base_uri": "https://localhost:8080/",
          "height": 35
        },
        "id": "9EesWv5nI0xT",
        "outputId": "f8becd41-72ef-459e-f2a1-15870c776ad4"
      },
      "source": [
        "#Removing duplicate records from top\n",
        "cust_name.pop(0)"
      ],
      "execution_count": 15,
      "outputs": [
        {
          "output_type": "execute_result",
          "data": {
            "application/vnd.google.colaboratory.intrinsic+json": {
              "type": "string"
            },
            "text/plain": [
              "'Bharath Kumar'"
            ]
          },
          "metadata": {},
          "execution_count": 15
        }
      ]
    },
    {
      "cell_type": "code",
      "metadata": {
        "colab": {
          "base_uri": "https://localhost:8080/",
          "height": 35
        },
        "id": "vRJpizcjI4Qa",
        "outputId": "47cdc930-9f56-4dee-ca69-3340c14dfc1a"
      },
      "source": [
        "#Removing duplicate records from top\n",
        "cust_name.pop(0)"
      ],
      "execution_count": 17,
      "outputs": [
        {
          "output_type": "execute_result",
          "data": {
            "application/vnd.google.colaboratory.intrinsic+json": {
              "type": "string"
            },
            "text/plain": [
              "'jaywant'"
            ]
          },
          "metadata": {},
          "execution_count": 17
        }
      ]
    },
    {
      "cell_type": "code",
      "metadata": {
        "colab": {
          "base_uri": "https://localhost:8080/"
        },
        "id": "OdDQ_qfFI8ej",
        "outputId": "83e28ace-46fd-48ef-ed7f-9b13e6b43e26"
      },
      "source": [
        "cust_name"
      ],
      "execution_count": 18,
      "outputs": [
        {
          "output_type": "execute_result",
          "data": {
            "text/plain": [
              "['jaywant',\n",
              " 'Bharath Kumar',\n",
              " 'Utpal Das',\n",
              " 'Rishabh',\n",
              " 'zishan ali',\n",
              " 'mohammad n.',\n",
              " 'Keshav Singh',\n",
              " 'Vikram Nayak ',\n",
              " 'Jack Sparrow ',\n",
              " 'Lalit A.']"
            ]
          },
          "metadata": {},
          "execution_count": 18
        }
      ]
    },
    {
      "cell_type": "markdown",
      "metadata": {
        "id": "8me3t1DgQhOI"
      },
      "source": [
        "**Extracting Title of review**"
      ]
    },
    {
      "cell_type": "code",
      "metadata": {
        "ExecuteTime": {
          "end_time": "2021-10-09T21:29:47.962441Z",
          "start_time": "2021-10-09T21:29:47.926140Z"
        },
        "id": "3ZiO3jkkIESH"
      },
      "source": [
        "title = soup.find_all('a',class_='review-title-content')"
      ],
      "execution_count": 19,
      "outputs": []
    },
    {
      "cell_type": "code",
      "metadata": {
        "ExecuteTime": {
          "end_time": "2021-10-09T21:29:52.172549Z",
          "start_time": "2021-10-09T21:29:52.157640Z"
        },
        "colab": {
          "base_uri": "https://localhost:8080/"
        },
        "id": "fhe05jR-IESH",
        "outputId": "3aab582a-6570-4614-c4b2-967bfa97f568"
      },
      "source": [
        "title"
      ],
      "execution_count": 20,
      "outputs": [
        {
          "output_type": "execute_result",
          "data": {
            "text/plain": [
              "[<a class=\"a-size-base a-link-normal review-title a-color-base review-title-content a-text-bold\" data-hook=\"review-title\" href=\"/gp/customer-reviews/R3KT1QAB8KZMY7/ref=cm_cr_arp_d_rvw_ttl?ie=UTF8&amp;ASIN=B01LZKSVRB\">\n",
              " <span>Defective Iphone 7</span>\n",
              " </a>,\n",
              " <a class=\"a-size-base a-link-normal review-title a-color-base review-title-content a-text-bold\" data-hook=\"review-title\" href=\"/gp/customer-reviews/R16V645EXIKFJK/ref=cm_cr_arp_d_rvw_ttl?ie=UTF8&amp;ASIN=B01LZKSVRB\">\n",
              " <span>Switch to iPhone</span>\n",
              " </a>,\n",
              " <a class=\"a-size-base a-link-normal review-title a-color-base review-title-content a-text-bold\" data-hook=\"review-title\" href=\"/gp/customer-reviews/R2DO8TSERQ1U4K/ref=cm_cr_arp_d_rvw_ttl?ie=UTF8&amp;ASIN=B01LZKSVRB\">\n",
              " <span>Now I know why people use an iPhone, especially the 7, much improved than 6s, best VFM phone</span>\n",
              " </a>,\n",
              " <a class=\"a-size-base a-link-normal review-title a-color-base review-title-content a-text-bold\" data-hook=\"review-title\" href=\"/gp/customer-reviews/RBX928KFSJSIS/ref=cm_cr_arp_d_rvw_ttl?ie=UTF8&amp;ASIN=B01LZKSVRB\">\n",
              " <span>Black Beauty !!</span>\n",
              " </a>,\n",
              " <a class=\"a-size-base a-link-normal review-title a-color-base review-title-content a-text-bold\" data-hook=\"review-title\" href=\"/gp/customer-reviews/R1UA4TU5V7PW0T/ref=cm_cr_arp_d_rvw_ttl?ie=UTF8&amp;ASIN=B01LZKSVRB\">\n",
              " <span>Worst battery in expensive iphone</span>\n",
              " </a>,\n",
              " <a class=\"a-size-base a-link-normal review-title a-color-base review-title-content a-text-bold\" data-hook=\"review-title\" href=\"/gp/customer-reviews/R1HP4OPR6QUR6O/ref=cm_cr_arp_d_rvw_ttl?ie=UTF8&amp;ASIN=B01LZKSVRB\">\n",
              " <span>Seller gave me really old product.</span>\n",
              " </a>,\n",
              " <a class=\"a-size-base a-link-normal review-title a-color-base review-title-content a-text-bold\" data-hook=\"review-title\" href=\"/gp/customer-reviews/R23GVDFM6U0IA/ref=cm_cr_arp_d_rvw_ttl?ie=UTF8&amp;ASIN=B01LZKSVRB\">\n",
              " <span>100% Genuine &amp; New Handset</span>\n",
              " </a>,\n",
              " <a class=\"a-size-base a-link-normal review-title a-color-base review-title-content a-text-bold\" data-hook=\"review-title\" href=\"/gp/customer-reviews/RCE2N9MZ7HYTK/ref=cm_cr_arp_d_rvw_ttl?ie=UTF8&amp;ASIN=B01LZKSVRB\">\n",
              " <span>Worth it in 2019</span>\n",
              " </a>,\n",
              " <a class=\"a-size-base a-link-normal review-title a-color-base review-title-content a-text-bold\" data-hook=\"review-title\" href=\"/gp/customer-reviews/R3R8RRV34W50RG/ref=cm_cr_arp_d_rvw_ttl?ie=UTF8&amp;ASIN=B01LZKSVRB\">\n",
              " <span>Go for it, very nice budget iPhone. I’m loving this.</span>\n",
              " </a>,\n",
              " <a class=\"a-size-base a-link-normal review-title a-color-base review-title-content a-text-bold\" data-hook=\"review-title\" href=\"/gp/customer-reviews/R228LU31AHU7BH/ref=cm_cr_arp_d_rvw_ttl?ie=UTF8&amp;ASIN=B01LZKSVRB\">\n",
              " <span>I phone 7</span>\n",
              " </a>]"
            ]
          },
          "metadata": {},
          "execution_count": 20
        }
      ]
    },
    {
      "cell_type": "code",
      "metadata": {
        "ExecuteTime": {
          "end_time": "2021-10-09T21:38:10.385205Z",
          "start_time": "2021-10-09T21:38:10.381553Z"
        },
        "id": "mBg5pA6ZIESI"
      },
      "source": [
        "review_title=[]\n",
        "for i in range (0,len(title)):\n",
        "    review_title.append(title[i].get_text())"
      ],
      "execution_count": 21,
      "outputs": []
    },
    {
      "cell_type": "code",
      "metadata": {
        "ExecuteTime": {
          "end_time": "2021-10-09T21:38:12.819112Z",
          "start_time": "2021-10-09T21:38:12.806555Z"
        },
        "colab": {
          "base_uri": "https://localhost:8080/"
        },
        "id": "0hcXdsVAIESJ",
        "outputId": "a72cedfd-8034-455e-ec11-574963e23f91"
      },
      "source": [
        "review_title"
      ],
      "execution_count": 22,
      "outputs": [
        {
          "output_type": "execute_result",
          "data": {
            "text/plain": [
              "['\\nDefective Iphone 7\\n',\n",
              " '\\nSwitch to iPhone\\n',\n",
              " '\\nNow I know why people use an iPhone, especially the 7, much improved than 6s, best VFM phone\\n',\n",
              " '\\nBlack Beauty !!\\n',\n",
              " '\\nWorst battery in expensive iphone\\n',\n",
              " '\\nSeller gave me really old product.\\n',\n",
              " '\\n100% Genuine & New Handset\\n',\n",
              " '\\nWorth it in 2019\\n',\n",
              " '\\nGo for it, very nice budget iPhone. I’m loving this.\\n',\n",
              " '\\nI phone 7\\n']"
            ]
          },
          "metadata": {},
          "execution_count": 22
        }
      ]
    },
    {
      "cell_type": "code",
      "metadata": {
        "ExecuteTime": {
          "end_time": "2021-10-09T21:38:22.690187Z",
          "start_time": "2021-10-09T21:38:22.685040Z"
        },
        "id": "pYafgTeaIESK"
      },
      "source": [
        "review_title[:] = [x.lstrip('\\n') for x in review_title]"
      ],
      "execution_count": 23,
      "outputs": []
    },
    {
      "cell_type": "code",
      "metadata": {
        "ExecuteTime": {
          "end_time": "2021-10-09T21:38:28.561969Z",
          "start_time": "2021-10-09T21:38:28.550374Z"
        },
        "colab": {
          "base_uri": "https://localhost:8080/"
        },
        "id": "PLE0ARptIESL",
        "outputId": "9e07211d-4430-4cc0-f5aa-72941414bff7"
      },
      "source": [
        "review_title"
      ],
      "execution_count": 24,
      "outputs": [
        {
          "output_type": "execute_result",
          "data": {
            "text/plain": [
              "['Defective Iphone 7\\n',\n",
              " 'Switch to iPhone\\n',\n",
              " 'Now I know why people use an iPhone, especially the 7, much improved than 6s, best VFM phone\\n',\n",
              " 'Black Beauty !!\\n',\n",
              " 'Worst battery in expensive iphone\\n',\n",
              " 'Seller gave me really old product.\\n',\n",
              " '100% Genuine & New Handset\\n',\n",
              " 'Worth it in 2019\\n',\n",
              " 'Go for it, very nice budget iPhone. I’m loving this.\\n',\n",
              " 'I phone 7\\n']"
            ]
          },
          "metadata": {},
          "execution_count": 24
        }
      ]
    },
    {
      "cell_type": "code",
      "metadata": {
        "ExecuteTime": {
          "end_time": "2021-10-09T21:38:32.154390Z",
          "start_time": "2021-10-09T21:38:32.147154Z"
        },
        "id": "gAoyAvrVIESL"
      },
      "source": [
        "review_title[:] = [x.rstrip('\\n') for x in review_title]"
      ],
      "execution_count": 25,
      "outputs": []
    },
    {
      "cell_type": "code",
      "metadata": {
        "ExecuteTime": {
          "end_time": "2021-10-09T21:38:33.940626Z",
          "start_time": "2021-10-09T21:38:33.926570Z"
        },
        "colab": {
          "base_uri": "https://localhost:8080/"
        },
        "id": "7EVYpe8UIESM",
        "outputId": "504d5eca-8b7d-4fbf-af0b-b84b0b38c0d2"
      },
      "source": [
        "review_title"
      ],
      "execution_count": 26,
      "outputs": [
        {
          "output_type": "execute_result",
          "data": {
            "text/plain": [
              "['Defective Iphone 7',\n",
              " 'Switch to iPhone',\n",
              " 'Now I know why people use an iPhone, especially the 7, much improved than 6s, best VFM phone',\n",
              " 'Black Beauty !!',\n",
              " 'Worst battery in expensive iphone',\n",
              " 'Seller gave me really old product.',\n",
              " '100% Genuine & New Handset',\n",
              " 'Worth it in 2019',\n",
              " 'Go for it, very nice budget iPhone. I’m loving this.',\n",
              " 'I phone 7']"
            ]
          },
          "metadata": {},
          "execution_count": 26
        }
      ]
    },
    {
      "cell_type": "markdown",
      "metadata": {
        "id": "G-1aFXzLQppE"
      },
      "source": [
        "**Extracting star rating**"
      ]
    },
    {
      "cell_type": "code",
      "metadata": {
        "ExecuteTime": {
          "end_time": "2021-10-09T21:41:27.079044Z",
          "start_time": "2021-10-09T21:41:27.028002Z"
        },
        "id": "ZDP-jaMeIESN"
      },
      "source": [
        "rating = soup.find_all('i', class_ ='review-rating')"
      ],
      "execution_count": 27,
      "outputs": []
    },
    {
      "cell_type": "code",
      "metadata": {
        "ExecuteTime": {
          "end_time": "2021-10-09T21:41:31.102979Z",
          "start_time": "2021-10-09T21:41:31.081471Z"
        },
        "colab": {
          "base_uri": "https://localhost:8080/"
        },
        "id": "ppHjb8YqIESN",
        "outputId": "cd661be1-e95a-45c4-d919-2da2c75135de"
      },
      "source": [
        "rating"
      ],
      "execution_count": 28,
      "outputs": [
        {
          "output_type": "execute_result",
          "data": {
            "text/plain": [
              "[<i class=\"a-icon a-icon-star a-star-5 review-rating\" data-hook=\"review-star-rating-view-point\"><span class=\"a-icon-alt\">5.0 out of 5 stars</span></i>,\n",
              " <i class=\"a-icon a-icon-star a-star-1 review-rating\" data-hook=\"review-star-rating-view-point\"><span class=\"a-icon-alt\">1.0 out of 5 stars</span></i>,\n",
              " <i class=\"a-icon a-icon-star a-star-1 review-rating\" data-hook=\"review-star-rating\"><span class=\"a-icon-alt\">1.0 out of 5 stars</span></i>,\n",
              " <i class=\"a-icon a-icon-star a-star-5 review-rating\" data-hook=\"review-star-rating\"><span class=\"a-icon-alt\">5.0 out of 5 stars</span></i>,\n",
              " <i class=\"a-icon a-icon-star a-star-5 review-rating\" data-hook=\"review-star-rating\"><span class=\"a-icon-alt\">5.0 out of 5 stars</span></i>,\n",
              " <i class=\"a-icon a-icon-star a-star-5 review-rating\" data-hook=\"review-star-rating\"><span class=\"a-icon-alt\">5.0 out of 5 stars</span></i>,\n",
              " <i class=\"a-icon a-icon-star a-star-1 review-rating\" data-hook=\"review-star-rating\"><span class=\"a-icon-alt\">1.0 out of 5 stars</span></i>,\n",
              " <i class=\"a-icon a-icon-star a-star-1 review-rating\" data-hook=\"review-star-rating\"><span class=\"a-icon-alt\">1.0 out of 5 stars</span></i>,\n",
              " <i class=\"a-icon a-icon-star a-star-5 review-rating\" data-hook=\"review-star-rating\"><span class=\"a-icon-alt\">5.0 out of 5 stars</span></i>,\n",
              " <i class=\"a-icon a-icon-star a-star-5 review-rating\" data-hook=\"review-star-rating\"><span class=\"a-icon-alt\">5.0 out of 5 stars</span></i>,\n",
              " <i class=\"a-icon a-icon-star a-star-5 review-rating\" data-hook=\"review-star-rating\"><span class=\"a-icon-alt\">5.0 out of 5 stars</span></i>,\n",
              " <i class=\"a-icon a-icon-star a-star-2 review-rating\" data-hook=\"review-star-rating\"><span class=\"a-icon-alt\">2.0 out of 5 stars</span></i>]"
            ]
          },
          "metadata": {},
          "execution_count": 28
        }
      ]
    },
    {
      "cell_type": "code",
      "metadata": {
        "ExecuteTime": {
          "end_time": "2021-10-09T21:42:23.122889Z",
          "start_time": "2021-10-09T21:42:23.116599Z"
        },
        "id": "CQqumoZVIESO"
      },
      "source": [
        "rate =[]\n",
        "for i in range (0,len(rating)):\n",
        "    rate.append(rating[i].get_text())"
      ],
      "execution_count": 29,
      "outputs": []
    },
    {
      "cell_type": "code",
      "metadata": {
        "ExecuteTime": {
          "end_time": "2021-10-09T21:42:26.405214Z",
          "start_time": "2021-10-09T21:42:26.388216Z"
        },
        "colab": {
          "base_uri": "https://localhost:8080/"
        },
        "id": "WqRAqmqCIESO",
        "outputId": "c91c2383-4ec7-4862-f43a-86edbc59369b"
      },
      "source": [
        "rate"
      ],
      "execution_count": 30,
      "outputs": [
        {
          "output_type": "execute_result",
          "data": {
            "text/plain": [
              "['5.0 out of 5 stars',\n",
              " '1.0 out of 5 stars',\n",
              " '1.0 out of 5 stars',\n",
              " '5.0 out of 5 stars',\n",
              " '5.0 out of 5 stars',\n",
              " '5.0 out of 5 stars',\n",
              " '1.0 out of 5 stars',\n",
              " '1.0 out of 5 stars',\n",
              " '5.0 out of 5 stars',\n",
              " '5.0 out of 5 stars',\n",
              " '5.0 out of 5 stars',\n",
              " '2.0 out of 5 stars']"
            ]
          },
          "metadata": {},
          "execution_count": 30
        }
      ]
    },
    {
      "cell_type": "code",
      "metadata": {
        "colab": {
          "base_uri": "https://localhost:8080/",
          "height": 35
        },
        "id": "Ou5UBQ4AJyNs",
        "outputId": "abee9072-8f1b-4e1d-f8e6-98485f0047f5"
      },
      "source": [
        "rate.pop(0)"
      ],
      "execution_count": 31,
      "outputs": [
        {
          "output_type": "execute_result",
          "data": {
            "application/vnd.google.colaboratory.intrinsic+json": {
              "type": "string"
            },
            "text/plain": [
              "'5.0 out of 5 stars'"
            ]
          },
          "metadata": {},
          "execution_count": 31
        }
      ]
    },
    {
      "cell_type": "code",
      "metadata": {
        "colab": {
          "base_uri": "https://localhost:8080/",
          "height": 35
        },
        "id": "eEkVMpUPJ12p",
        "outputId": "a2525843-d00c-4cdd-d942-4b4ff905d4ac"
      },
      "source": [
        "rate.pop(0)"
      ],
      "execution_count": 32,
      "outputs": [
        {
          "output_type": "execute_result",
          "data": {
            "application/vnd.google.colaboratory.intrinsic+json": {
              "type": "string"
            },
            "text/plain": [
              "'1.0 out of 5 stars'"
            ]
          },
          "metadata": {},
          "execution_count": 32
        }
      ]
    },
    {
      "cell_type": "code",
      "metadata": {
        "colab": {
          "base_uri": "https://localhost:8080/"
        },
        "id": "25SM0KIsJ5SK",
        "outputId": "89089fe7-36a9-4ae4-f5fe-a89eed183f9a"
      },
      "source": [
        "rate"
      ],
      "execution_count": 33,
      "outputs": [
        {
          "output_type": "execute_result",
          "data": {
            "text/plain": [
              "['1.0 out of 5 stars',\n",
              " '5.0 out of 5 stars',\n",
              " '5.0 out of 5 stars',\n",
              " '5.0 out of 5 stars',\n",
              " '1.0 out of 5 stars',\n",
              " '1.0 out of 5 stars',\n",
              " '5.0 out of 5 stars',\n",
              " '5.0 out of 5 stars',\n",
              " '5.0 out of 5 stars',\n",
              " '2.0 out of 5 stars']"
            ]
          },
          "metadata": {},
          "execution_count": 33
        }
      ]
    },
    {
      "cell_type": "markdown",
      "metadata": {
        "id": "xq3MXKPQQxPf"
      },
      "source": [
        "**Extracting review**"
      ]
    },
    {
      "cell_type": "code",
      "metadata": {
        "ExecuteTime": {
          "end_time": "2021-10-09T21:48:12.968810Z",
          "start_time": "2021-10-09T21:48:12.917701Z"
        },
        "id": "xew5LARjIESO"
      },
      "source": [
        "review= soup.find_all('span', class_='review-text')"
      ],
      "execution_count": 34,
      "outputs": []
    },
    {
      "cell_type": "code",
      "metadata": {
        "ExecuteTime": {
          "end_time": "2021-10-09T21:48:14.642765Z",
          "start_time": "2021-10-09T21:48:14.629722Z"
        },
        "colab": {
          "base_uri": "https://localhost:8080/"
        },
        "id": "0JLLAzWIIESP",
        "outputId": "073ac638-6f56-4f98-85a9-96d0dee5b424"
      },
      "source": [
        "review"
      ],
      "execution_count": 35,
      "outputs": [
        {
          "output_type": "execute_result",
          "data": {
            "text/plain": [
              "[<span class=\"a-size-base review-text review-text-content\" data-hook=\"review-body\">\n",
              " <span>\n",
              "   i received defective iphone 7 32GB silver colour during \"Great Indian Festival Sale 2018\".<br/>Amazon delivered the product in a Day.<br/>But Product seems to be non functional. as Rear camera get Freeze due to faulty camera sensor. Just to save the time &amp; money, i bought it from Amazon online E-store. Now Amazon representative, asked me to visit Apple Service store. So far i have wasted my precious time &amp; my mind . The phone was sold by \"Sold by Appario Retail Private Ltd \" .<br/>I'm really fed up till now. expecting Amazon to do quick action against it.\n",
              " </span>\n",
              " </span>,\n",
              " <span class=\"a-size-base review-text review-text-content\" data-hook=\"review-body\">\n",
              " <span>\n",
              "   Thanks for Amazon service. phone is very nice and cool also is the display was very very cool the sound clarity is excellent and phone is very slim. And the processor is very fast Nice performance in gaming. Compare to other phones this is superb.\n",
              " </span>\n",
              " </span>,\n",
              " <span class=\"a-size-base review-text review-text-content\" data-hook=\"review-body\">\n",
              " <span>\n",
              "   Redmi phones cameras are great, of course iPhone is better but is the 6 more Redmi phones that I can get for 1 iPhone justifiable for such a difference in price? Well, absolutely yes.<br>iPhone camera is not just better, it is so much better than comparing them are like comparing a Alto with BMW, yes both have 4 wheels, both have AC, both can run at 100 kmph, but you know the difference.<br/>The high price of iPhone is so justified by the sheer brilliance of camera it has. Sure it is just 12 MP, but the clarity, my o my!<br/>Sure the battery is just about 2600 compared to 3500 of a Redmi, but it lasts longer than a Redmi.<br/>I know I am comparing a low budget phone to a premium one, but there are so many people (I was one of them) who were not able to see the reason behind the steep price of iPhone.<br/>I have been using a MacBook for 10 years and since my work depends on it, I need it, but a phone? Why? It is not a necessity like the laptop, it is just for calling and taking pics occasionally, and I have my SLR for photography.<br/>But I was so wrong, an iPhone is an iPhone. Once you use it, there is no turning back.<br/>My last iPhone was a 4S and then since I love buying phones every 6 months, I shifted to Android (Redmi, Samsung, Honor) to satiate my hunger for new phones. All these phones are superb, no doubt, but once you use the iPhone 7, you know that the difference between these phones and iPhone 6s has got much bigger because of the camera.<br/>And features like Airdrop (100 pics transferred from the phone to Macbook within 4-5 seconds) are so good if you are using both iPhone and Macbook.<br/>Bottom line, iPhone 7 has jumped a big leap from the 6s and the 8 is almost similar. The X is double the price of a 7, so probably all things taken in account, the iPhone 7 is the best value for money among all phones in India\n",
              " </br></span>\n",
              " </span>,\n",
              " <span class=\"a-size-base review-text review-text-content\" data-hook=\"review-body\">\n",
              " <span>\n",
              "   If you are an apple fan !! This is a true beauty to go for !!\n",
              " </span>\n",
              " </span>,\n",
              " <span class=\"a-size-base review-text review-text-content\" data-hook=\"review-body\">\n",
              " <span>\n",
              "   in 20 days i found my battery health 98% which was very disappointing experience.  i suggest all the users for not to buy any apple device which is very worst battery setup.\n",
              " </span>\n",
              " </span>,\n",
              " <span class=\"a-size-base review-text review-text-content\" data-hook=\"review-body\">\n",
              " <span>\n",
              "   Totally disappointed within a month paint started to coming off, iphone started heating. I didn’t aspect this from apple. Seller gave really bad product. How can I exchange my product.<br>I couldn’t believe that paint is starting to came off so early. I purchased this devise on 6 jan 2020 and today is 23 jan 2020 barely a month passed.<br>I want my refund from this seller.\n",
              " </br></br></span>\n",
              " </span>,\n",
              " <span class=\"a-size-base review-text review-text-content\" data-hook=\"review-body\">\n",
              " <span>\n",
              "   First of all one would want to know is the product genuine and not refurbished coz during Amazon Big Sale I got it for 35k.<br/><br/>Before unboxing the I checked up at Apple website and Online check with serial no , EMEI no and other details<br/><br/>And it was 100% genuine and new Handset.<br/><br/>Phone is working great<br/><br/>Delivery was also quick in 03 days ..\n",
              " </span>\n",
              " </span>,\n",
              " <span class=\"a-size-base review-text review-text-content\" data-hook=\"review-body\">\n",
              " <span>\n",
              "   Very good specs which can handle updates for next 4 yrs .<br/>Good phone for people who don't use power hungry apps for long durations ,camera definitely upto the mark\n",
              " </span>\n",
              " </span>,\n",
              " <span class=\"a-size-base review-text review-text-content\" data-hook=\"review-body\">\n",
              " <span>\n",
              "   Everything is awesome when it comes to an iphone. You will surely love it after few days uses.<br/>Thanks for Amazon service. phone is very nice and cool. Fingerprint work fast and fine.<br/>also is the display was very cool the sound clarity is excellent and phone is very slim. And the processor is very fast Nice performance in gaming. Compare to other android  phones this is superb.<br/><br/>Cons:- however now it lags behind its successors in not having FaceID.<br/>Go for iphone X or higher.\n",
              " </span>\n",
              " </span>,\n",
              " <span class=\"a-size-base review-text review-text-content\" data-hook=\"review-body\">\n",
              " <span>\n",
              "   This iPhone7 is in hearing problems. What Can I do\n",
              " </span>\n",
              " </span>]"
            ]
          },
          "metadata": {},
          "execution_count": 35
        }
      ]
    },
    {
      "cell_type": "code",
      "metadata": {
        "ExecuteTime": {
          "end_time": "2021-10-09T21:51:07.996520Z",
          "start_time": "2021-10-09T21:51:07.985649Z"
        },
        "colab": {
          "base_uri": "https://localhost:8080/"
        },
        "id": "iFRt7KmnIESP",
        "outputId": "98c65d2d-3ce2-4931-c955-e65342931ceb"
      },
      "source": [
        "review_content =[]\n",
        "for i in range(0,len(review)):\n",
        "    review_content.append(review[i].get_text())\n",
        "review_content"
      ],
      "execution_count": 36,
      "outputs": [
        {
          "output_type": "execute_result",
          "data": {
            "text/plain": [
              "['\\n\\n  i received defective iphone 7 32GB silver colour during \"Great Indian Festival Sale 2018\".Amazon delivered the product in a Day.But Product seems to be non functional. as Rear camera get Freeze due to faulty camera sensor. Just to save the time & money, i bought it from Amazon online E-store. Now Amazon representative, asked me to visit Apple Service store. So far i have wasted my precious time & my mind . The phone was sold by \"Sold by Appario Retail Private Ltd \" .I\\'m really fed up till now. expecting Amazon to do quick action against it.\\n\\n',\n",
              " '\\n\\n  Thanks for Amazon service. phone is very nice and cool also is the display was very very cool the sound clarity is excellent and phone is very slim. And the processor is very fast Nice performance in gaming. Compare to other phones this is superb.\\n\\n',\n",
              " '\\n\\n  Redmi phones cameras are great, of course iPhone is better but is the 6 more Redmi phones that I can get for 1 iPhone justifiable for such a difference in price? Well, absolutely yes.iPhone camera is not just better, it is so much better than comparing them are like comparing a Alto with BMW, yes both have 4 wheels, both have AC, both can run at 100 kmph, but you know the difference.The high price of iPhone is so justified by the sheer brilliance of camera it has. Sure it is just 12 MP, but the clarity, my o my!Sure the battery is just about 2600 compared to 3500 of a Redmi, but it lasts longer than a Redmi.I know I am comparing a low budget phone to a premium one, but there are so many people (I was one of them) who were not able to see the reason behind the steep price of iPhone.I have been using a MacBook for 10 years and since my work depends on it, I need it, but a phone? Why? It is not a necessity like the laptop, it is just for calling and taking pics occasionally, and I have my SLR for photography.But I was so wrong, an iPhone is an iPhone. Once you use it, there is no turning back.My last iPhone was a 4S and then since I love buying phones every 6 months, I shifted to Android (Redmi, Samsung, Honor) to satiate my hunger for new phones. All these phones are superb, no doubt, but once you use the iPhone 7, you know that the difference between these phones and iPhone 6s has got much bigger because of the camera.And features like Airdrop (100 pics transferred from the phone to Macbook within 4-5 seconds) are so good if you are using both iPhone and Macbook.Bottom line, iPhone 7 has jumped a big leap from the 6s and the 8 is almost similar. The X is double the price of a 7, so probably all things taken in account, the iPhone 7 is the best value for money among all phones in India\\n\\n',\n",
              " '\\n\\n  If you are an apple fan !! This is a true beauty to go for !!\\n\\n',\n",
              " '\\n\\n  in 20 days i found my battery health 98% which was very disappointing experience.  i suggest all the users for not to buy any apple device which is very worst battery setup.\\n\\n',\n",
              " '\\n\\n  Totally disappointed within a month paint started to coming off, iphone started heating. I didn’t aspect this from apple. Seller gave really bad product. How can I exchange my product.I couldn’t believe that paint is starting to came off so early. I purchased this devise on 6 jan 2020 and today is 23 jan 2020 barely a month passed.I want my refund from this seller.\\n\\n',\n",
              " '\\n\\n  First of all one would want to know is the product genuine and not refurbished coz during Amazon Big Sale I got it for 35k.Before unboxing the I checked up at Apple website and Online check with serial no , EMEI no and other detailsAnd it was 100% genuine and new Handset.Phone is working greatDelivery was also quick in 03 days ..\\n\\n',\n",
              " \"\\n\\n  Very good specs which can handle updates for next 4 yrs .Good phone for people who don't use power hungry apps for long durations ,camera definitely upto the mark\\n\\n\",\n",
              " '\\n\\n  Everything is awesome when it comes to an iphone. You will surely love it after few days uses.Thanks for Amazon service. phone is very nice and cool. Fingerprint work fast and fine.also is the display was very cool the sound clarity is excellent and phone is very slim. And the processor is very fast Nice performance in gaming. Compare to other android  phones this is superb.Cons:- however now it lags behind its successors in not having FaceID.Go for iphone X or higher.\\n\\n',\n",
              " '\\n\\n  This iPhone7 is in hearing problems. What Can I do\\n\\n']"
            ]
          },
          "metadata": {},
          "execution_count": 36
        }
      ]
    },
    {
      "cell_type": "code",
      "metadata": {
        "ExecuteTime": {
          "end_time": "2021-10-09T21:53:56.213795Z",
          "start_time": "2021-10-09T21:53:56.198623Z"
        },
        "id": "2lW1cucaIESQ"
      },
      "source": [
        "review_content[:]= [x.lstrip('\\n\\n') for x in review_content]"
      ],
      "execution_count": 37,
      "outputs": []
    },
    {
      "cell_type": "code",
      "metadata": {
        "ExecuteTime": {
          "end_time": "2021-10-09T21:54:51.535186Z",
          "start_time": "2021-10-09T21:54:51.530036Z"
        },
        "id": "L3R6rtjZIESQ"
      },
      "source": [
        "review_content[:]= [x.rstrip('\\n\\n') for x in review_content]"
      ],
      "execution_count": 38,
      "outputs": []
    },
    {
      "cell_type": "code",
      "metadata": {
        "ExecuteTime": {
          "end_time": "2021-10-09T21:55:00.229305Z",
          "start_time": "2021-10-09T21:55:00.220791Z"
        },
        "colab": {
          "base_uri": "https://localhost:8080/"
        },
        "id": "ZAWURVmjIESQ",
        "outputId": "40395c40-0759-4c63-c32d-f362afdec2d5"
      },
      "source": [
        "review_content"
      ],
      "execution_count": 39,
      "outputs": [
        {
          "output_type": "execute_result",
          "data": {
            "text/plain": [
              "['  i received defective iphone 7 32GB silver colour during \"Great Indian Festival Sale 2018\".Amazon delivered the product in a Day.But Product seems to be non functional. as Rear camera get Freeze due to faulty camera sensor. Just to save the time & money, i bought it from Amazon online E-store. Now Amazon representative, asked me to visit Apple Service store. So far i have wasted my precious time & my mind . The phone was sold by \"Sold by Appario Retail Private Ltd \" .I\\'m really fed up till now. expecting Amazon to do quick action against it.',\n",
              " '  Thanks for Amazon service. phone is very nice and cool also is the display was very very cool the sound clarity is excellent and phone is very slim. And the processor is very fast Nice performance in gaming. Compare to other phones this is superb.',\n",
              " '  Redmi phones cameras are great, of course iPhone is better but is the 6 more Redmi phones that I can get for 1 iPhone justifiable for such a difference in price? Well, absolutely yes.iPhone camera is not just better, it is so much better than comparing them are like comparing a Alto with BMW, yes both have 4 wheels, both have AC, both can run at 100 kmph, but you know the difference.The high price of iPhone is so justified by the sheer brilliance of camera it has. Sure it is just 12 MP, but the clarity, my o my!Sure the battery is just about 2600 compared to 3500 of a Redmi, but it lasts longer than a Redmi.I know I am comparing a low budget phone to a premium one, but there are so many people (I was one of them) who were not able to see the reason behind the steep price of iPhone.I have been using a MacBook for 10 years and since my work depends on it, I need it, but a phone? Why? It is not a necessity like the laptop, it is just for calling and taking pics occasionally, and I have my SLR for photography.But I was so wrong, an iPhone is an iPhone. Once you use it, there is no turning back.My last iPhone was a 4S and then since I love buying phones every 6 months, I shifted to Android (Redmi, Samsung, Honor) to satiate my hunger for new phones. All these phones are superb, no doubt, but once you use the iPhone 7, you know that the difference between these phones and iPhone 6s has got much bigger because of the camera.And features like Airdrop (100 pics transferred from the phone to Macbook within 4-5 seconds) are so good if you are using both iPhone and Macbook.Bottom line, iPhone 7 has jumped a big leap from the 6s and the 8 is almost similar. The X is double the price of a 7, so probably all things taken in account, the iPhone 7 is the best value for money among all phones in India',\n",
              " '  If you are an apple fan !! This is a true beauty to go for !!',\n",
              " '  in 20 days i found my battery health 98% which was very disappointing experience.  i suggest all the users for not to buy any apple device which is very worst battery setup.',\n",
              " '  Totally disappointed within a month paint started to coming off, iphone started heating. I didn’t aspect this from apple. Seller gave really bad product. How can I exchange my product.I couldn’t believe that paint is starting to came off so early. I purchased this devise on 6 jan 2020 and today is 23 jan 2020 barely a month passed.I want my refund from this seller.',\n",
              " '  First of all one would want to know is the product genuine and not refurbished coz during Amazon Big Sale I got it for 35k.Before unboxing the I checked up at Apple website and Online check with serial no , EMEI no and other detailsAnd it was 100% genuine and new Handset.Phone is working greatDelivery was also quick in 03 days ..',\n",
              " \"  Very good specs which can handle updates for next 4 yrs .Good phone for people who don't use power hungry apps for long durations ,camera definitely upto the mark\",\n",
              " '  Everything is awesome when it comes to an iphone. You will surely love it after few days uses.Thanks for Amazon service. phone is very nice and cool. Fingerprint work fast and fine.also is the display was very cool the sound clarity is excellent and phone is very slim. And the processor is very fast Nice performance in gaming. Compare to other android  phones this is superb.Cons:- however now it lags behind its successors in not having FaceID.Go for iphone X or higher.',\n",
              " '  This iPhone7 is in hearing problems. What Can I do']"
            ]
          },
          "metadata": {},
          "execution_count": 39
        }
      ]
    },
    {
      "cell_type": "code",
      "metadata": {
        "ExecuteTime": {
          "end_time": "2021-10-09T21:56:49.161681Z",
          "start_time": "2021-10-09T21:56:49.140181Z"
        },
        "colab": {
          "base_uri": "https://localhost:8080/"
        },
        "id": "VlPUC2PRIESR",
        "outputId": "d2de9c87-f9d4-4eb9-f23f-bdaf8a40cc6e"
      },
      "source": [
        "# Variables in which data is saved \n",
        "cust_name\n",
        "review_title\n",
        "rate\n",
        "review_content"
      ],
      "execution_count": 40,
      "outputs": [
        {
          "output_type": "execute_result",
          "data": {
            "text/plain": [
              "['  i received defective iphone 7 32GB silver colour during \"Great Indian Festival Sale 2018\".Amazon delivered the product in a Day.But Product seems to be non functional. as Rear camera get Freeze due to faulty camera sensor. Just to save the time & money, i bought it from Amazon online E-store. Now Amazon representative, asked me to visit Apple Service store. So far i have wasted my precious time & my mind . The phone was sold by \"Sold by Appario Retail Private Ltd \" .I\\'m really fed up till now. expecting Amazon to do quick action against it.',\n",
              " '  Thanks for Amazon service. phone is very nice and cool also is the display was very very cool the sound clarity is excellent and phone is very slim. And the processor is very fast Nice performance in gaming. Compare to other phones this is superb.',\n",
              " '  Redmi phones cameras are great, of course iPhone is better but is the 6 more Redmi phones that I can get for 1 iPhone justifiable for such a difference in price? Well, absolutely yes.iPhone camera is not just better, it is so much better than comparing them are like comparing a Alto with BMW, yes both have 4 wheels, both have AC, both can run at 100 kmph, but you know the difference.The high price of iPhone is so justified by the sheer brilliance of camera it has. Sure it is just 12 MP, but the clarity, my o my!Sure the battery is just about 2600 compared to 3500 of a Redmi, but it lasts longer than a Redmi.I know I am comparing a low budget phone to a premium one, but there are so many people (I was one of them) who were not able to see the reason behind the steep price of iPhone.I have been using a MacBook for 10 years and since my work depends on it, I need it, but a phone? Why? It is not a necessity like the laptop, it is just for calling and taking pics occasionally, and I have my SLR for photography.But I was so wrong, an iPhone is an iPhone. Once you use it, there is no turning back.My last iPhone was a 4S and then since I love buying phones every 6 months, I shifted to Android (Redmi, Samsung, Honor) to satiate my hunger for new phones. All these phones are superb, no doubt, but once you use the iPhone 7, you know that the difference between these phones and iPhone 6s has got much bigger because of the camera.And features like Airdrop (100 pics transferred from the phone to Macbook within 4-5 seconds) are so good if you are using both iPhone and Macbook.Bottom line, iPhone 7 has jumped a big leap from the 6s and the 8 is almost similar. The X is double the price of a 7, so probably all things taken in account, the iPhone 7 is the best value for money among all phones in India',\n",
              " '  If you are an apple fan !! This is a true beauty to go for !!',\n",
              " '  in 20 days i found my battery health 98% which was very disappointing experience.  i suggest all the users for not to buy any apple device which is very worst battery setup.',\n",
              " '  Totally disappointed within a month paint started to coming off, iphone started heating. I didn’t aspect this from apple. Seller gave really bad product. How can I exchange my product.I couldn’t believe that paint is starting to came off so early. I purchased this devise on 6 jan 2020 and today is 23 jan 2020 barely a month passed.I want my refund from this seller.',\n",
              " '  First of all one would want to know is the product genuine and not refurbished coz during Amazon Big Sale I got it for 35k.Before unboxing the I checked up at Apple website and Online check with serial no , EMEI no and other detailsAnd it was 100% genuine and new Handset.Phone is working greatDelivery was also quick in 03 days ..',\n",
              " \"  Very good specs which can handle updates for next 4 yrs .Good phone for people who don't use power hungry apps for long durations ,camera definitely upto the mark\",\n",
              " '  Everything is awesome when it comes to an iphone. You will surely love it after few days uses.Thanks for Amazon service. phone is very nice and cool. Fingerprint work fast and fine.also is the display was very cool the sound clarity is excellent and phone is very slim. And the processor is very fast Nice performance in gaming. Compare to other android  phones this is superb.Cons:- however now it lags behind its successors in not having FaceID.Go for iphone X or higher.',\n",
              " '  This iPhone7 is in hearing problems. What Can I do']"
            ]
          },
          "metadata": {},
          "execution_count": 40
        }
      ]
    },
    {
      "cell_type": "markdown",
      "metadata": {
        "id": "x-KJrDtMQ-Rz"
      },
      "source": [
        "**Saving all the review data in a dataframe**"
      ]
    },
    {
      "cell_type": "code",
      "metadata": {
        "ExecuteTime": {
          "end_time": "2021-10-09T22:08:39.365634Z",
          "start_time": "2021-10-09T22:08:39.352605Z"
        },
        "colab": {
          "base_uri": "https://localhost:8080/",
          "height": 32
        },
        "id": "M0CHg1yYIESR",
        "outputId": "3fab4f14-cb34-479f-bee5-726b763e5fcb"
      },
      "source": [
        "import pandas as pd\n",
        "df_scrapping = pd.DataFrame()\n",
        "df_scrapping"
      ],
      "execution_count": 41,
      "outputs": [
        {
          "output_type": "execute_result",
          "data": {
            "text/html": [
              "<div>\n",
              "<style scoped>\n",
              "    .dataframe tbody tr th:only-of-type {\n",
              "        vertical-align: middle;\n",
              "    }\n",
              "\n",
              "    .dataframe tbody tr th {\n",
              "        vertical-align: top;\n",
              "    }\n",
              "\n",
              "    .dataframe thead th {\n",
              "        text-align: right;\n",
              "    }\n",
              "</style>\n",
              "<table border=\"1\" class=\"dataframe\">\n",
              "  <thead>\n",
              "    <tr style=\"text-align: right;\">\n",
              "      <th></th>\n",
              "    </tr>\n",
              "  </thead>\n",
              "  <tbody>\n",
              "  </tbody>\n",
              "</table>\n",
              "</div>"
            ],
            "text/plain": [
              "Empty DataFrame\n",
              "Columns: []\n",
              "Index: []"
            ]
          },
          "metadata": {},
          "execution_count": 41
        }
      ]
    },
    {
      "cell_type": "code",
      "metadata": {
        "ExecuteTime": {
          "end_time": "2021-10-09T22:09:21.275601Z",
          "start_time": "2021-10-09T22:09:21.212586Z"
        },
        "colab": {
          "base_uri": "https://localhost:8080/",
          "height": 359
        },
        "id": "bQ4KQzZRIESS",
        "outputId": "ff1bc913-9d02-42b7-e901-9670446775b9"
      },
      "source": [
        "df_scrapping['Customer_name']= cust_name\n",
        "df_scrapping['Title']= review_title\n",
        "df_scrapping['Rating'] = rate\n",
        "df_scrapping['Review']= review_content\n",
        "df_scrapping"
      ],
      "execution_count": 42,
      "outputs": [
        {
          "output_type": "execute_result",
          "data": {
            "text/html": [
              "<div>\n",
              "<style scoped>\n",
              "    .dataframe tbody tr th:only-of-type {\n",
              "        vertical-align: middle;\n",
              "    }\n",
              "\n",
              "    .dataframe tbody tr th {\n",
              "        vertical-align: top;\n",
              "    }\n",
              "\n",
              "    .dataframe thead th {\n",
              "        text-align: right;\n",
              "    }\n",
              "</style>\n",
              "<table border=\"1\" class=\"dataframe\">\n",
              "  <thead>\n",
              "    <tr style=\"text-align: right;\">\n",
              "      <th></th>\n",
              "      <th>Customer_name</th>\n",
              "      <th>Title</th>\n",
              "      <th>Rating</th>\n",
              "      <th>Review</th>\n",
              "    </tr>\n",
              "  </thead>\n",
              "  <tbody>\n",
              "    <tr>\n",
              "      <th>0</th>\n",
              "      <td>jaywant</td>\n",
              "      <td>Defective Iphone 7</td>\n",
              "      <td>1.0 out of 5 stars</td>\n",
              "      <td>i received defective iphone 7 32GB silver co...</td>\n",
              "    </tr>\n",
              "    <tr>\n",
              "      <th>1</th>\n",
              "      <td>Bharath Kumar</td>\n",
              "      <td>Switch to iPhone</td>\n",
              "      <td>5.0 out of 5 stars</td>\n",
              "      <td>Thanks for Amazon service. phone is very nic...</td>\n",
              "    </tr>\n",
              "    <tr>\n",
              "      <th>2</th>\n",
              "      <td>Utpal Das</td>\n",
              "      <td>Now I know why people use an iPhone, especiall...</td>\n",
              "      <td>5.0 out of 5 stars</td>\n",
              "      <td>Redmi phones cameras are great, of course iP...</td>\n",
              "    </tr>\n",
              "    <tr>\n",
              "      <th>3</th>\n",
              "      <td>Rishabh</td>\n",
              "      <td>Black Beauty !!</td>\n",
              "      <td>5.0 out of 5 stars</td>\n",
              "      <td>If you are an apple fan !! This is a true be...</td>\n",
              "    </tr>\n",
              "    <tr>\n",
              "      <th>4</th>\n",
              "      <td>zishan ali</td>\n",
              "      <td>Worst battery in expensive iphone</td>\n",
              "      <td>1.0 out of 5 stars</td>\n",
              "      <td>in 20 days i found my battery health 98% whi...</td>\n",
              "    </tr>\n",
              "    <tr>\n",
              "      <th>5</th>\n",
              "      <td>mohammad n.</td>\n",
              "      <td>Seller gave me really old product.</td>\n",
              "      <td>1.0 out of 5 stars</td>\n",
              "      <td>Totally disappointed within a month paint st...</td>\n",
              "    </tr>\n",
              "    <tr>\n",
              "      <th>6</th>\n",
              "      <td>Keshav Singh</td>\n",
              "      <td>100% Genuine &amp; New Handset</td>\n",
              "      <td>5.0 out of 5 stars</td>\n",
              "      <td>First of all one would want to know is the p...</td>\n",
              "    </tr>\n",
              "    <tr>\n",
              "      <th>7</th>\n",
              "      <td>Vikram Nayak</td>\n",
              "      <td>Worth it in 2019</td>\n",
              "      <td>5.0 out of 5 stars</td>\n",
              "      <td>Very good specs which can handle updates for...</td>\n",
              "    </tr>\n",
              "    <tr>\n",
              "      <th>8</th>\n",
              "      <td>Jack Sparrow</td>\n",
              "      <td>Go for it, very nice budget iPhone. I’m loving...</td>\n",
              "      <td>5.0 out of 5 stars</td>\n",
              "      <td>Everything is awesome when it comes to an ip...</td>\n",
              "    </tr>\n",
              "    <tr>\n",
              "      <th>9</th>\n",
              "      <td>Lalit A.</td>\n",
              "      <td>I phone 7</td>\n",
              "      <td>2.0 out of 5 stars</td>\n",
              "      <td>This iPhone7 is in hearing problems. What Ca...</td>\n",
              "    </tr>\n",
              "  </tbody>\n",
              "</table>\n",
              "</div>"
            ],
            "text/plain": [
              "   Customer_name  ...                                             Review\n",
              "0        jaywant  ...    i received defective iphone 7 32GB silver co...\n",
              "1  Bharath Kumar  ...    Thanks for Amazon service. phone is very nic...\n",
              "2      Utpal Das  ...    Redmi phones cameras are great, of course iP...\n",
              "3        Rishabh  ...    If you are an apple fan !! This is a true be...\n",
              "4     zishan ali  ...    in 20 days i found my battery health 98% whi...\n",
              "5    mohammad n.  ...    Totally disappointed within a month paint st...\n",
              "6   Keshav Singh  ...    First of all one would want to know is the p...\n",
              "7  Vikram Nayak   ...    Very good specs which can handle updates for...\n",
              "8  Jack Sparrow   ...    Everything is awesome when it comes to an ip...\n",
              "9       Lalit A.  ...    This iPhone7 is in hearing problems. What Ca...\n",
              "\n",
              "[10 rows x 4 columns]"
            ]
          },
          "metadata": {},
          "execution_count": 42
        }
      ]
    },
    {
      "cell_type": "markdown",
      "metadata": {
        "id": "t6JeFw_bRYED"
      },
      "source": [
        "**downloading the file in a csv format**"
      ]
    },
    {
      "cell_type": "code",
      "metadata": {
        "id": "2p3qtbj9IEST"
      },
      "source": [
        "df_scrapping.to_csv(r'D:\\Data Science\\Amazon_reviews.csv', index=True)"
      ],
      "execution_count": 47,
      "outputs": []
    },
    {
      "cell_type": "code",
      "metadata": {
        "id": "A46wwzwnQILC"
      },
      "source": [
        ""
      ],
      "execution_count": null,
      "outputs": []
    }
  ]
}